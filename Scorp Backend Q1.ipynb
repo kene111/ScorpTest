{
 "cells": [
  {
   "cell_type": "code",
   "execution_count": 1,
   "metadata": {},
   "outputs": [],
   "source": [
    "import sqlalchemy as sql\n",
    "from sqlalchemy.ext.declarative import declarative_base\n",
    "from sqlalchemy.ext.hybrid import hybrid_property, hybrid_method\n",
    "from sqlalchemy import text, select\n",
    "from sqlalchemy.sql import exists"
   ]
  },
  {
   "cell_type": "code",
   "execution_count": 2,
   "metadata": {},
   "outputs": [],
   "source": [
    "from datetime import datetime"
   ]
  },
  {
   "cell_type": "code",
   "execution_count": 3,
   "metadata": {},
   "outputs": [],
   "source": [
    "engine = sql.create_engine('sqlite:///social_platform.db', echo=True)"
   ]
  },
  {
   "cell_type": "code",
   "execution_count": 4,
   "metadata": {},
   "outputs": [],
   "source": [
    "Base = declarative_base()"
   ]
  },
  {
   "cell_type": "code",
   "execution_count": 5,
   "metadata": {},
   "outputs": [],
   "source": [
    "class User(Base):\n",
    "    __tablename__ = 'users'\n",
    "\n",
    "    id = sql.Column(sql.Integer, primary_key=True)\n",
    "    username = sql.Column(sql.String, nullable=False)\n",
    "    email = sql.Column(sql.String,nullable=False)\n",
    "    full_name = sql.Column(sql.String,nullable=True)\n",
    "    profile_picture = sql.Column(sql.String,nullable=True)\n",
    "    bio = sql.Column(sql.String,nullable=True)\n",
    "    created_at = sql.Column(sql.DateTime(), default=datetime.utcnow)\n",
    "    \n",
    "    def __repr__(self):\n",
    "        return f\" Account for {self.username} has been created!\"\n",
    "\n",
    "\n",
    "    "
   ]
  },
  {
   "cell_type": "code",
   "execution_count": 6,
   "metadata": {},
   "outputs": [],
   "source": [
    "class Follow(Base):\n",
    "    __tablename__ = 'follows'\n",
    "    \n",
    "    id = sql.Column(sql.Integer, primary_key=True)\n",
    "    follower_id = sql.Column(sql.Integer)\n",
    "    following_id = sql.Column(sql.Integer)\n",
    "    created_at = sql.Column(sql.DateTime(), default=datetime.utcnow)\n"
   ]
  },
  {
   "cell_type": "code",
   "execution_count": 7,
   "metadata": {},
   "outputs": [],
   "source": [
    "class Post(Base):\n",
    "    __tablename__ = 'posts'\n",
    "\n",
    "    id = sql.Column(sql.Integer, primary_key=True)\n",
    "    description = sql.Column(sql.String, nullable= True)\n",
    "    user_id = sql.Column(sql.ForeignKey('users.id'))\n",
    "    image = sql.Column(sql.String, nullable= True)\n",
    "    created_at = sql.Column(sql.DateTime(), default=datetime.utcnow)\n",
    "    \n",
    "\n"
   ]
  },
  {
   "cell_type": "code",
   "execution_count": 8,
   "metadata": {},
   "outputs": [],
   "source": [
    "class Like(Base):\n",
    "    __tablename__ = 'likes'\n",
    "\n",
    "    id = sql.Column(sql.Integer, primary_key=True)\n",
    "    post_id = sql.Column(sql.ForeignKey('posts.id'))\n",
    "    user_id = sql.Column(sql.ForeignKey('users.id'))\n",
    "    created_at = sql.Column(sql.DateTime(), default=datetime.utcnow)\n"
   ]
  },
  {
   "cell_type": "markdown",
   "metadata": {},
   "source": [
    "### create data base"
   ]
  },
  {
   "cell_type": "code",
   "execution_count": 9,
   "metadata": {},
   "outputs": [
    {
     "name": "stdout",
     "output_type": "stream",
     "text": [
      "2022-01-05 01:30:17,002 INFO sqlalchemy.engine.base.Engine SELECT CAST('test plain returns' AS VARCHAR(60)) AS anon_1\n",
      "2022-01-05 01:30:17,008 INFO sqlalchemy.engine.base.Engine ()\n",
      "2022-01-05 01:30:17,010 INFO sqlalchemy.engine.base.Engine SELECT CAST('test unicode returns' AS VARCHAR(60)) AS anon_1\n",
      "2022-01-05 01:30:17,011 INFO sqlalchemy.engine.base.Engine ()\n",
      "2022-01-05 01:30:17,014 INFO sqlalchemy.engine.base.Engine PRAGMA main.table_info(\"users\")\n",
      "2022-01-05 01:30:17,015 INFO sqlalchemy.engine.base.Engine ()\n",
      "2022-01-05 01:30:17,017 INFO sqlalchemy.engine.base.Engine PRAGMA temp.table_info(\"users\")\n",
      "2022-01-05 01:30:17,018 INFO sqlalchemy.engine.base.Engine ()\n",
      "2022-01-05 01:30:17,020 INFO sqlalchemy.engine.base.Engine PRAGMA main.table_info(\"follows\")\n",
      "2022-01-05 01:30:17,020 INFO sqlalchemy.engine.base.Engine ()\n",
      "2022-01-05 01:30:17,021 INFO sqlalchemy.engine.base.Engine PRAGMA temp.table_info(\"follows\")\n",
      "2022-01-05 01:30:17,022 INFO sqlalchemy.engine.base.Engine ()\n",
      "2022-01-05 01:30:17,024 INFO sqlalchemy.engine.base.Engine PRAGMA main.table_info(\"posts\")\n",
      "2022-01-05 01:30:17,025 INFO sqlalchemy.engine.base.Engine ()\n",
      "2022-01-05 01:30:17,026 INFO sqlalchemy.engine.base.Engine PRAGMA temp.table_info(\"posts\")\n",
      "2022-01-05 01:30:17,027 INFO sqlalchemy.engine.base.Engine ()\n",
      "2022-01-05 01:30:17,029 INFO sqlalchemy.engine.base.Engine PRAGMA main.table_info(\"likes\")\n",
      "2022-01-05 01:30:17,030 INFO sqlalchemy.engine.base.Engine ()\n",
      "2022-01-05 01:30:17,032 INFO sqlalchemy.engine.base.Engine PRAGMA temp.table_info(\"likes\")\n",
      "2022-01-05 01:30:17,033 INFO sqlalchemy.engine.base.Engine ()\n",
      "2022-01-05 01:30:17,035 INFO sqlalchemy.engine.base.Engine \n",
      "CREATE TABLE users (\n",
      "\tid INTEGER NOT NULL, \n",
      "\tusername VARCHAR NOT NULL, \n",
      "\temail VARCHAR NOT NULL, \n",
      "\tfull_name VARCHAR, \n",
      "\tprofile_picture VARCHAR, \n",
      "\tbio VARCHAR, \n",
      "\tcreated_at DATETIME, \n",
      "\tPRIMARY KEY (id)\n",
      ")\n",
      "\n",
      "\n",
      "2022-01-05 01:30:17,036 INFO sqlalchemy.engine.base.Engine ()\n",
      "2022-01-05 01:30:17,393 INFO sqlalchemy.engine.base.Engine COMMIT\n",
      "2022-01-05 01:30:17,396 INFO sqlalchemy.engine.base.Engine \n",
      "CREATE TABLE follows (\n",
      "\tid INTEGER NOT NULL, \n",
      "\tfollower_id INTEGER, \n",
      "\tfollowing_id INTEGER, \n",
      "\tcreated_at DATETIME, \n",
      "\tPRIMARY KEY (id)\n",
      ")\n",
      "\n",
      "\n",
      "2022-01-05 01:30:17,397 INFO sqlalchemy.engine.base.Engine ()\n",
      "2022-01-05 01:30:17,562 INFO sqlalchemy.engine.base.Engine COMMIT\n",
      "2022-01-05 01:30:17,566 INFO sqlalchemy.engine.base.Engine \n",
      "CREATE TABLE posts (\n",
      "\tid INTEGER NOT NULL, \n",
      "\tdescription VARCHAR, \n",
      "\tuser_id INTEGER, \n",
      "\timage VARCHAR, \n",
      "\tcreated_at DATETIME, \n",
      "\tPRIMARY KEY (id), \n",
      "\tFOREIGN KEY(user_id) REFERENCES users (id)\n",
      ")\n",
      "\n",
      "\n",
      "2022-01-05 01:30:17,567 INFO sqlalchemy.engine.base.Engine ()\n",
      "2022-01-05 01:30:17,729 INFO sqlalchemy.engine.base.Engine COMMIT\n",
      "2022-01-05 01:30:17,733 INFO sqlalchemy.engine.base.Engine \n",
      "CREATE TABLE likes (\n",
      "\tid INTEGER NOT NULL, \n",
      "\tpost_id INTEGER, \n",
      "\tuser_id INTEGER, \n",
      "\tcreated_at DATETIME, \n",
      "\tPRIMARY KEY (id), \n",
      "\tFOREIGN KEY(post_id) REFERENCES posts (id), \n",
      "\tFOREIGN KEY(user_id) REFERENCES users (id)\n",
      ")\n",
      "\n",
      "\n",
      "2022-01-05 01:30:17,735 INFO sqlalchemy.engine.base.Engine ()\n",
      "2022-01-05 01:30:17,884 INFO sqlalchemy.engine.base.Engine COMMIT\n"
     ]
    }
   ],
   "source": [
    "Base.metadata.create_all(engine)"
   ]
  },
  {
   "cell_type": "markdown",
   "metadata": {},
   "source": [
    "### create and  Insert data into database"
   ]
  },
  {
   "cell_type": "markdown",
   "metadata": {},
   "source": [
    "##### create users and their posts"
   ]
  },
  {
   "cell_type": "code",
   "execution_count": 10,
   "metadata": {},
   "outputs": [],
   "source": [
    "### User 1\n",
    "user1 = User(id=1, username=\"Sammy\",email=\"sammy@company.com\",full_name=\"Sammy Johnson\",profile_picture=\"path/to/profile/picture1\",bio=\"The Stars\")\n",
    "### User 1 posts\n",
    "post1  = Post(id =1, description=\"first post\",user_id=user1.id)\n",
    "post2  = Post(id =2, description=\"brown cat\",user_id=user1.id)\n",
    "post3  = Post(id =3, description=\"big cow\",user_id=user1.id)"
   ]
  },
  {
   "cell_type": "code",
   "execution_count": 11,
   "metadata": {},
   "outputs": [],
   "source": [
    "### User 2\n",
    "user2 = User(id=2, username=\"Jane\",email=\"jane@company.com\",full_name=\"Jane Hilton\",profile_picture=\"path/to/profile/picture2\",bio=\"Fun and all sun shine.\")\n",
    "### User 2 posts\n",
    "post4  = Post(id =4, description=\"sunny sunday\",user_id=user2.id)\n",
    "post5  = Post(id =5, description=\"cheese cake\",user_id=user2.id)\n",
    "post6  = Post(id =6, description=\"beach day\",user_id=user2.id)\n"
   ]
  },
  {
   "cell_type": "code",
   "execution_count": 12,
   "metadata": {},
   "outputs": [],
   "source": [
    "### User 3\n",
    "user3 = User(id=3, username=\"Mike\",email=\"mike@company.com\",full_name=\"Mike Summers\",profile_picture=\"path/to/profile/picture3\",bio=\"Not too early to drink wine\")\n",
    "### User 3 posts\n",
    "post7  = Post(id =7, description=\" ... \",user_id=user3.id)\n",
    "post8  = Post(id =8, description=\"Jazz\",user_id=user3.id)\n",
    "post9  = Post(id =9, description=\"Gold\",user_id=user3.id)\n"
   ]
  },
  {
   "cell_type": "code",
   "execution_count": 13,
   "metadata": {},
   "outputs": [],
   "source": [
    "### User 4\n",
    "user4 = User(id=4, username=\"Kate\",email=\"kate@company.com\",full_name=\"Kate Weathers\",profile_picture=\"path/to/profile/picture4\",bio=\"Moments after a heavy down pour\")\n",
    "### User 4 posts\n",
    "post10  = Post(id =10, description=\" Long walks \",user_id=user4.id)\n",
    "post11 = Post(id =11, description=\"jeans & boots\",user_id=user4.id)\n",
    "post12 = Post(id =12, description=\"Let's go skate\",user_id=user4.id)\n"
   ]
  },
  {
   "cell_type": "code",
   "execution_count": 14,
   "metadata": {},
   "outputs": [],
   "source": [
    "### User 5\n",
    "user5 = User(id=5, username=\"Ralph\",email=\"ralph@company.com\",full_name=\"Ralph Jerkins\",profile_picture=\"path/to/profile/picture5\",bio=\"Bikes and Mechanics\")\n",
    "### User 5 posts\n",
    "post13  = Post(id =13, description=\" Break Lights \",user_id=user5.id)\n",
    "post14 = Post(id =14, description=\" Netflix ...\",user_id=user5.id)\n",
    "post15 = Post(id =15, description=\" The weekend\",user_id=user5.id)\n"
   ]
  },
  {
   "cell_type": "markdown",
   "metadata": {},
   "source": [
    "###### create follow instances"
   ]
  },
  {
   "cell_type": "code",
   "execution_count": 15,
   "metadata": {},
   "outputs": [],
   "source": [
    "f1 = Follow(id = 1,follower_id = user2.id ,following_id = user4.id )\n",
    "f2 = Follow(id = 2,follower_id = user5.id ,following_id = user1.id )\n",
    "f3 = Follow(id = 3,follower_id = user4.id ,following_id = user5.id )\n",
    "f4 = Follow(id = 4,follower_id = user3.id ,following_id = user2.id )\n",
    "f5 = Follow(id = 5,follower_id = user1.id ,following_id = user3.id )"
   ]
  },
  {
   "cell_type": "markdown",
   "metadata": {},
   "source": [
    "###### create like instances"
   ]
  },
  {
   "cell_type": "code",
   "execution_count": 16,
   "metadata": {},
   "outputs": [],
   "source": [
    "l1 = Like(id=1,post_id =post4.id, user_id=user1.id)\n",
    "l2 = Like(id=2,post_id =post12.id, user_id=user1.id)"
   ]
  },
  {
   "cell_type": "code",
   "execution_count": 17,
   "metadata": {},
   "outputs": [],
   "source": [
    "l3 = Like(id=3,post_id =post1.id, user_id=user2.id)\n",
    "l4 = Like(id=4,post_id =post9.id, user_id=user2.id)"
   ]
  },
  {
   "cell_type": "code",
   "execution_count": 18,
   "metadata": {},
   "outputs": [],
   "source": [
    "l5 = Like(id=5,post_id =post5.id, user_id=user3.id)\n",
    "l6 = Like(id=6,post_id =post3.id, user_id=user3.id)"
   ]
  },
  {
   "cell_type": "code",
   "execution_count": 19,
   "metadata": {},
   "outputs": [],
   "source": [
    "l7 = Like(id=7,post_id =post8.id, user_id=user4.id)\n",
    "l8 = Like(id=8,post_id =post13.id, user_id=user4.id)"
   ]
  },
  {
   "cell_type": "code",
   "execution_count": 20,
   "metadata": {},
   "outputs": [],
   "source": [
    "l9 = Like(id=9,post_id =post10.id, user_id=user5.id)\n",
    "l10 = Like(id=10,post_id =post15.id, user_id=user5.id)"
   ]
  },
  {
   "cell_type": "markdown",
   "metadata": {},
   "source": [
    "### Insert into database"
   ]
  },
  {
   "cell_type": "code",
   "execution_count": 21,
   "metadata": {},
   "outputs": [],
   "source": [
    "session = sql.orm.Session(engine)"
   ]
  },
  {
   "cell_type": "code",
   "execution_count": 22,
   "metadata": {},
   "outputs": [],
   "source": [
    "session.add(user1)\n",
    "session.add(post1)\n",
    "session.add(post2)\n",
    "session.add(post3)\n",
    "\n",
    "session.add(user2)\n",
    "session.add(post4)\n",
    "session.add(post5)\n",
    "session.add(post6)\n",
    "\n",
    "session.add(user3)\n",
    "session.add(post7)\n",
    "session.add(post8)\n",
    "session.add(post9)\n",
    "\n",
    "session.add(user4)\n",
    "session.add(post10)\n",
    "session.add(post11)\n",
    "session.add(post12)\n",
    "\n",
    "session.add(user5)\n",
    "session.add(post13)\n",
    "session.add(post14)\n",
    "session.add(post15)\n",
    "\n",
    "\n",
    "session.add(f1)\n",
    "session.add(f2)\n",
    "session.add(f3)\n",
    "session.add(f4)\n",
    "session.add(f5)\n",
    "\n",
    "session.add(l1)\n",
    "session.add(l2)\n",
    "session.add(l3)\n",
    "session.add(l4)\n",
    "session.add(l5)\n",
    "session.add(l6)\n",
    "session.add(l7)\n",
    "session.add(l8)\n",
    "session.add(l9)\n",
    "session.add(l10)"
   ]
  },
  {
   "cell_type": "code",
   "execution_count": 23,
   "metadata": {},
   "outputs": [
    {
     "name": "stdout",
     "output_type": "stream",
     "text": [
      "2022-01-05 01:30:35,232 INFO sqlalchemy.engine.base.Engine BEGIN (implicit)\n",
      "2022-01-05 01:30:35,234 INFO sqlalchemy.engine.base.Engine INSERT INTO follows (id, follower_id, following_id, created_at) VALUES (?, ?, ?, ?)\n",
      "2022-01-05 01:30:35,235 INFO sqlalchemy.engine.base.Engine ((1, 2, 4, '2022-01-05 00:30:35.234304'), (2, 5, 1, '2022-01-05 00:30:35.234304'), (3, 4, 5, '2022-01-05 00:30:35.234304'), (4, 3, 2, '2022-01-05 00:30:35.234304'), (5, 1, 3, '2022-01-05 00:30:35.234304'))\n",
      "2022-01-05 01:30:35,241 INFO sqlalchemy.engine.base.Engine INSERT INTO posts (id, description, user_id, image, created_at) VALUES (?, ?, ?, ?, ?)\n",
      "2022-01-05 01:30:35,242 INFO sqlalchemy.engine.base.Engine ((1, 'first post', 1, None, '2022-01-05 00:30:35.240308'), (2, 'brown cat', 1, None, '2022-01-05 00:30:35.240308'), (3, 'big cow', 1, None, '2022-01-05 00:30:35.240308'), (4, 'sunny sunday', 2, None, '2022-01-05 00:30:35.240308'), (5, 'cheese cake', 2, None, '2022-01-05 00:30:35.240308'), (6, 'beach day', 2, None, '2022-01-05 00:30:35.240308'), (7, ' ... ', 3, None, '2022-01-05 00:30:35.240308'), (8, 'Jazz', 3, None, '2022-01-05 00:30:35.240308')  ... displaying 10 of 15 total bound parameter sets ...  (14, ' Netflix ...', 5, None, '2022-01-05 00:30:35.240308'), (15, ' The weekend', 5, None, '2022-01-05 00:30:35.240308'))\n",
      "2022-01-05 01:30:35,246 INFO sqlalchemy.engine.base.Engine INSERT INTO likes (id, post_id, user_id, created_at) VALUES (?, ?, ?, ?)\n",
      "2022-01-05 01:30:35,247 INFO sqlalchemy.engine.base.Engine ((1, 4, 1, '2022-01-05 00:30:35.245312'), (2, 12, 1, '2022-01-05 00:30:35.245312'), (3, 1, 2, '2022-01-05 00:30:35.245312'), (4, 9, 2, '2022-01-05 00:30:35.245312'), (5, 5, 3, '2022-01-05 00:30:35.245312'), (6, 3, 3, '2022-01-05 00:30:35.245312'), (7, 8, 4, '2022-01-05 00:30:35.245312'), (8, 13, 4, '2022-01-05 00:30:35.245312'), (9, 10, 5, '2022-01-05 00:30:35.245312'), (10, 15, 5, '2022-01-05 00:30:35.245312'))\n",
      "2022-01-05 01:30:35,251 INFO sqlalchemy.engine.base.Engine INSERT INTO users (id, username, email, full_name, profile_picture, bio, created_at) VALUES (?, ?, ?, ?, ?, ?, ?)\n",
      "2022-01-05 01:30:35,253 INFO sqlalchemy.engine.base.Engine ((1, 'Sammy', 'sammy@company.com', 'Sammy Johnson', 'path/to/profile/picture1', 'The Stars', '2022-01-05 00:30:35.251316'), (2, 'Jane', 'jane@company.com', 'Jane Hilton', 'path/to/profile/picture2', 'Fun and all sun shine.', '2022-01-05 00:30:35.251316'), (3, 'Mike', 'mike@company.com', 'Mike Summers', 'path/to/profile/picture3', 'Not too early to drink wine', '2022-01-05 00:30:35.251316'), (4, 'Kate', 'kate@company.com', 'Kate Weathers', 'path/to/profile/picture4', 'Moments after a heavy down pour', '2022-01-05 00:30:35.251316'), (5, 'Ralph', 'ralph@company.com', 'Ralph Jerkins', 'path/to/profile/picture5', 'Bikes and Mechanics', '2022-01-05 00:30:35.251316'))\n",
      "2022-01-05 01:30:35,257 INFO sqlalchemy.engine.base.Engine COMMIT\n"
     ]
    }
   ],
   "source": [
    "session.commit()"
   ]
  },
  {
   "cell_type": "code",
   "execution_count": null,
   "metadata": {},
   "outputs": [],
   "source": []
  },
  {
   "cell_type": "markdown",
   "metadata": {},
   "source": [
    "### Querying The Database"
   ]
  },
  {
   "cell_type": "code",
   "execution_count": 24,
   "metadata": {},
   "outputs": [],
   "source": [
    "post_ids = [1,3,4,5,7,8,9,12,15,20]"
   ]
  },
  {
   "cell_type": "code",
   "execution_count": 25,
   "metadata": {},
   "outputs": [],
   "source": [
    "class Struct_Post(object):\n",
    "    \n",
    "    def __init__(self,id,description,owner, image, created_at, liked):\n",
    "        self.id = id\n",
    "        self.description = description\n",
    "        self.owner= owner\n",
    "        self.image = image\n",
    "        self.created_at = created_at\n",
    "        self.liked= liked  \n",
    "    \n",
    "    \n",
    "    def __repr__(self):\n",
    "        return(f\"id:{self.id}, description:{self.description}, owner:{self.owner}, image:{self.image}, created_at:{self.created_at}, liked:{self.liked}\")"
   ]
  },
  {
   "cell_type": "markdown",
   "metadata": {},
   "source": [
    "## Question 1: Solution"
   ]
  },
  {
   "cell_type": "code",
   "execution_count": 26,
   "metadata": {},
   "outputs": [],
   "source": [
    "def get_posts(user_id, post_ids):\n",
    "    \n",
    "    existing_posts = []\n",
    "    list_struct_posts = []\n",
    "    \n",
    "    #get the posts using the post_ids (query the post table)\n",
    "    for i in post_ids:\n",
    "        q = session.query(Post).filter(Post.id==i)\n",
    "        if q.scalar():\n",
    "            for i in q:\n",
    "                existing_posts.append(i)\n",
    "        else:\n",
    "            #if id does not exist in database return None\n",
    "            existing_posts.append(None)\n",
    "                        \n",
    "   #check if requesting user liked any post, if true set liked attribute in struct_post to True else False\n",
    "    for i in existing_posts:\n",
    "        # if i is not none\n",
    "        if i:\n",
    "            #check if user liked post (query the like table)\n",
    "            checks = session.query(Like).filter(Like.post_id == i.id, Like.user_id == user_id).scalar()\n",
    "            # if true set liked attribute to True in Struct_Post\n",
    "            if checks:\n",
    "                # insert values into their respective attributes\n",
    "                inst = Struct_Post(id=i.id, description=i.description, owner=i.user_id, image=i.image, created_at=i.created_at, liked=True)\n",
    "                list_struct_posts.append(inst)\n",
    "                \n",
    "            # if false set liked attribute to False in Struct_Post \n",
    "            else:\n",
    "                inst = Struct_Post(id=i.id, description=i.description, owner=i.user_id, image=i.image, created_at=i.created_at, liked=False)\n",
    "                list_struct_posts.append(inst)\n",
    "        else:\n",
    "            list_struct_posts.append(None)\n",
    "        \n",
    "    return list_struct_posts"
   ]
  },
  {
   "cell_type": "code",
   "execution_count": 27,
   "metadata": {},
   "outputs": [
    {
     "name": "stdout",
     "output_type": "stream",
     "text": [
      "2022-01-05 01:30:52,693 INFO sqlalchemy.engine.base.Engine BEGIN (implicit)\n",
      "2022-01-05 01:30:52,694 INFO sqlalchemy.engine.base.Engine SELECT posts.id AS posts_id, posts.description AS posts_description, posts.user_id AS posts_user_id, posts.image AS posts_image, posts.created_at AS posts_created_at \n",
      "FROM posts \n",
      "WHERE posts.id = ?\n",
      "2022-01-05 01:30:52,695 INFO sqlalchemy.engine.base.Engine (1,)\n",
      "2022-01-05 01:30:52,699 INFO sqlalchemy.engine.base.Engine SELECT posts.id AS posts_id, posts.description AS posts_description, posts.user_id AS posts_user_id, posts.image AS posts_image, posts.created_at AS posts_created_at \n",
      "FROM posts \n",
      "WHERE posts.id = ?\n",
      "2022-01-05 01:30:52,700 INFO sqlalchemy.engine.base.Engine (1,)\n",
      "2022-01-05 01:30:52,703 INFO sqlalchemy.engine.base.Engine SELECT posts.id AS posts_id, posts.description AS posts_description, posts.user_id AS posts_user_id, posts.image AS posts_image, posts.created_at AS posts_created_at \n",
      "FROM posts \n",
      "WHERE posts.id = ?\n",
      "2022-01-05 01:30:52,704 INFO sqlalchemy.engine.base.Engine (3,)\n",
      "2022-01-05 01:30:52,707 INFO sqlalchemy.engine.base.Engine SELECT posts.id AS posts_id, posts.description AS posts_description, posts.user_id AS posts_user_id, posts.image AS posts_image, posts.created_at AS posts_created_at \n",
      "FROM posts \n",
      "WHERE posts.id = ?\n",
      "2022-01-05 01:30:52,707 INFO sqlalchemy.engine.base.Engine (3,)\n",
      "2022-01-05 01:30:52,710 INFO sqlalchemy.engine.base.Engine SELECT posts.id AS posts_id, posts.description AS posts_description, posts.user_id AS posts_user_id, posts.image AS posts_image, posts.created_at AS posts_created_at \n",
      "FROM posts \n",
      "WHERE posts.id = ?\n",
      "2022-01-05 01:30:52,711 INFO sqlalchemy.engine.base.Engine (4,)\n",
      "2022-01-05 01:30:52,713 INFO sqlalchemy.engine.base.Engine SELECT posts.id AS posts_id, posts.description AS posts_description, posts.user_id AS posts_user_id, posts.image AS posts_image, posts.created_at AS posts_created_at \n",
      "FROM posts \n",
      "WHERE posts.id = ?\n",
      "2022-01-05 01:30:52,714 INFO sqlalchemy.engine.base.Engine (4,)\n",
      "2022-01-05 01:30:52,717 INFO sqlalchemy.engine.base.Engine SELECT posts.id AS posts_id, posts.description AS posts_description, posts.user_id AS posts_user_id, posts.image AS posts_image, posts.created_at AS posts_created_at \n",
      "FROM posts \n",
      "WHERE posts.id = ?\n",
      "2022-01-05 01:30:52,718 INFO sqlalchemy.engine.base.Engine (5,)\n",
      "2022-01-05 01:30:52,721 INFO sqlalchemy.engine.base.Engine SELECT posts.id AS posts_id, posts.description AS posts_description, posts.user_id AS posts_user_id, posts.image AS posts_image, posts.created_at AS posts_created_at \n",
      "FROM posts \n",
      "WHERE posts.id = ?\n",
      "2022-01-05 01:30:52,722 INFO sqlalchemy.engine.base.Engine (5,)\n",
      "2022-01-05 01:30:52,725 INFO sqlalchemy.engine.base.Engine SELECT posts.id AS posts_id, posts.description AS posts_description, posts.user_id AS posts_user_id, posts.image AS posts_image, posts.created_at AS posts_created_at \n",
      "FROM posts \n",
      "WHERE posts.id = ?\n",
      "2022-01-05 01:30:52,727 INFO sqlalchemy.engine.base.Engine (7,)\n",
      "2022-01-05 01:30:52,729 INFO sqlalchemy.engine.base.Engine SELECT posts.id AS posts_id, posts.description AS posts_description, posts.user_id AS posts_user_id, posts.image AS posts_image, posts.created_at AS posts_created_at \n",
      "FROM posts \n",
      "WHERE posts.id = ?\n",
      "2022-01-05 01:30:52,730 INFO sqlalchemy.engine.base.Engine (7,)\n",
      "2022-01-05 01:30:52,733 INFO sqlalchemy.engine.base.Engine SELECT posts.id AS posts_id, posts.description AS posts_description, posts.user_id AS posts_user_id, posts.image AS posts_image, posts.created_at AS posts_created_at \n",
      "FROM posts \n",
      "WHERE posts.id = ?\n",
      "2022-01-05 01:30:52,734 INFO sqlalchemy.engine.base.Engine (8,)\n",
      "2022-01-05 01:30:52,736 INFO sqlalchemy.engine.base.Engine SELECT posts.id AS posts_id, posts.description AS posts_description, posts.user_id AS posts_user_id, posts.image AS posts_image, posts.created_at AS posts_created_at \n",
      "FROM posts \n",
      "WHERE posts.id = ?\n",
      "2022-01-05 01:30:52,737 INFO sqlalchemy.engine.base.Engine (8,)\n",
      "2022-01-05 01:30:52,739 INFO sqlalchemy.engine.base.Engine SELECT posts.id AS posts_id, posts.description AS posts_description, posts.user_id AS posts_user_id, posts.image AS posts_image, posts.created_at AS posts_created_at \n",
      "FROM posts \n",
      "WHERE posts.id = ?\n",
      "2022-01-05 01:30:52,740 INFO sqlalchemy.engine.base.Engine (9,)\n",
      "2022-01-05 01:30:52,743 INFO sqlalchemy.engine.base.Engine SELECT posts.id AS posts_id, posts.description AS posts_description, posts.user_id AS posts_user_id, posts.image AS posts_image, posts.created_at AS posts_created_at \n",
      "FROM posts \n",
      "WHERE posts.id = ?\n",
      "2022-01-05 01:30:52,744 INFO sqlalchemy.engine.base.Engine (9,)\n",
      "2022-01-05 01:30:52,746 INFO sqlalchemy.engine.base.Engine SELECT posts.id AS posts_id, posts.description AS posts_description, posts.user_id AS posts_user_id, posts.image AS posts_image, posts.created_at AS posts_created_at \n",
      "FROM posts \n",
      "WHERE posts.id = ?\n",
      "2022-01-05 01:30:52,747 INFO sqlalchemy.engine.base.Engine (12,)\n",
      "2022-01-05 01:30:52,750 INFO sqlalchemy.engine.base.Engine SELECT posts.id AS posts_id, posts.description AS posts_description, posts.user_id AS posts_user_id, posts.image AS posts_image, posts.created_at AS posts_created_at \n",
      "FROM posts \n",
      "WHERE posts.id = ?\n",
      "2022-01-05 01:30:52,755 INFO sqlalchemy.engine.base.Engine (12,)\n",
      "2022-01-05 01:30:52,758 INFO sqlalchemy.engine.base.Engine SELECT posts.id AS posts_id, posts.description AS posts_description, posts.user_id AS posts_user_id, posts.image AS posts_image, posts.created_at AS posts_created_at \n",
      "FROM posts \n",
      "WHERE posts.id = ?\n",
      "2022-01-05 01:30:52,760 INFO sqlalchemy.engine.base.Engine (15,)\n",
      "2022-01-05 01:30:52,763 INFO sqlalchemy.engine.base.Engine SELECT posts.id AS posts_id, posts.description AS posts_description, posts.user_id AS posts_user_id, posts.image AS posts_image, posts.created_at AS posts_created_at \n",
      "FROM posts \n",
      "WHERE posts.id = ?\n",
      "2022-01-05 01:30:52,764 INFO sqlalchemy.engine.base.Engine (15,)\n",
      "2022-01-05 01:30:52,766 INFO sqlalchemy.engine.base.Engine SELECT posts.id AS posts_id, posts.description AS posts_description, posts.user_id AS posts_user_id, posts.image AS posts_image, posts.created_at AS posts_created_at \n",
      "FROM posts \n",
      "WHERE posts.id = ?\n",
      "2022-01-05 01:30:52,767 INFO sqlalchemy.engine.base.Engine (20,)\n",
      "2022-01-05 01:30:52,769 INFO sqlalchemy.engine.base.Engine SELECT likes.id AS likes_id, likes.post_id AS likes_post_id, likes.user_id AS likes_user_id, likes.created_at AS likes_created_at \n",
      "FROM likes \n",
      "WHERE likes.post_id = ? AND likes.user_id = ?\n",
      "2022-01-05 01:30:52,770 INFO sqlalchemy.engine.base.Engine (1, 4)\n",
      "2022-01-05 01:30:52,773 INFO sqlalchemy.engine.base.Engine SELECT likes.id AS likes_id, likes.post_id AS likes_post_id, likes.user_id AS likes_user_id, likes.created_at AS likes_created_at \n",
      "FROM likes \n",
      "WHERE likes.post_id = ? AND likes.user_id = ?\n",
      "2022-01-05 01:30:52,774 INFO sqlalchemy.engine.base.Engine (3, 4)\n",
      "2022-01-05 01:30:52,776 INFO sqlalchemy.engine.base.Engine SELECT likes.id AS likes_id, likes.post_id AS likes_post_id, likes.user_id AS likes_user_id, likes.created_at AS likes_created_at \n",
      "FROM likes \n",
      "WHERE likes.post_id = ? AND likes.user_id = ?\n",
      "2022-01-05 01:30:52,777 INFO sqlalchemy.engine.base.Engine (4, 4)\n",
      "2022-01-05 01:30:52,779 INFO sqlalchemy.engine.base.Engine SELECT likes.id AS likes_id, likes.post_id AS likes_post_id, likes.user_id AS likes_user_id, likes.created_at AS likes_created_at \n",
      "FROM likes \n",
      "WHERE likes.post_id = ? AND likes.user_id = ?\n",
      "2022-01-05 01:30:52,779 INFO sqlalchemy.engine.base.Engine (5, 4)\n",
      "2022-01-05 01:30:52,781 INFO sqlalchemy.engine.base.Engine SELECT likes.id AS likes_id, likes.post_id AS likes_post_id, likes.user_id AS likes_user_id, likes.created_at AS likes_created_at \n",
      "FROM likes \n",
      "WHERE likes.post_id = ? AND likes.user_id = ?\n",
      "2022-01-05 01:30:52,781 INFO sqlalchemy.engine.base.Engine (7, 4)\n",
      "2022-01-05 01:30:52,783 INFO sqlalchemy.engine.base.Engine SELECT likes.id AS likes_id, likes.post_id AS likes_post_id, likes.user_id AS likes_user_id, likes.created_at AS likes_created_at \n",
      "FROM likes \n",
      "WHERE likes.post_id = ? AND likes.user_id = ?\n",
      "2022-01-05 01:30:52,784 INFO sqlalchemy.engine.base.Engine (8, 4)\n",
      "2022-01-05 01:30:52,786 INFO sqlalchemy.engine.base.Engine SELECT likes.id AS likes_id, likes.post_id AS likes_post_id, likes.user_id AS likes_user_id, likes.created_at AS likes_created_at \n",
      "FROM likes \n",
      "WHERE likes.post_id = ? AND likes.user_id = ?\n"
     ]
    },
    {
     "name": "stdout",
     "output_type": "stream",
     "text": [
      "2022-01-05 01:30:52,788 INFO sqlalchemy.engine.base.Engine (9, 4)\n",
      "2022-01-05 01:30:52,793 INFO sqlalchemy.engine.base.Engine SELECT likes.id AS likes_id, likes.post_id AS likes_post_id, likes.user_id AS likes_user_id, likes.created_at AS likes_created_at \n",
      "FROM likes \n",
      "WHERE likes.post_id = ? AND likes.user_id = ?\n",
      "2022-01-05 01:30:52,794 INFO sqlalchemy.engine.base.Engine (12, 4)\n",
      "2022-01-05 01:30:52,797 INFO sqlalchemy.engine.base.Engine SELECT likes.id AS likes_id, likes.post_id AS likes_post_id, likes.user_id AS likes_user_id, likes.created_at AS likes_created_at \n",
      "FROM likes \n",
      "WHERE likes.post_id = ? AND likes.user_id = ?\n",
      "2022-01-05 01:30:52,798 INFO sqlalchemy.engine.base.Engine (15, 4)\n"
     ]
    }
   ],
   "source": [
    "list_struct_posts = get_posts(4, post_ids)"
   ]
  },
  {
   "cell_type": "code",
   "execution_count": 28,
   "metadata": {},
   "outputs": [
    {
     "data": {
      "text/plain": [
       "[id:1, description:first post, owner:1, image:None, created_at:2022-01-05 00:30:35.240308, liked:False,\n",
       " id:3, description:big cow, owner:1, image:None, created_at:2022-01-05 00:30:35.240308, liked:False,\n",
       " id:4, description:sunny sunday, owner:2, image:None, created_at:2022-01-05 00:30:35.240308, liked:False,\n",
       " id:5, description:cheese cake, owner:2, image:None, created_at:2022-01-05 00:30:35.240308, liked:False,\n",
       " id:7, description: ... , owner:3, image:None, created_at:2022-01-05 00:30:35.240308, liked:False,\n",
       " id:8, description:Jazz, owner:3, image:None, created_at:2022-01-05 00:30:35.240308, liked:True,\n",
       " id:9, description:Gold, owner:3, image:None, created_at:2022-01-05 00:30:35.240308, liked:False,\n",
       " id:12, description:Let's go skate, owner:4, image:None, created_at:2022-01-05 00:30:35.240308, liked:False,\n",
       " id:15, description: The weekend, owner:5, image:None, created_at:2022-01-05 00:30:35.240308, liked:False,\n",
       " None]"
      ]
     },
     "execution_count": 28,
     "metadata": {},
     "output_type": "execute_result"
    }
   ],
   "source": [
    "list_struct_posts"
   ]
  },
  {
   "cell_type": "code",
   "execution_count": null,
   "metadata": {},
   "outputs": [],
   "source": []
  },
  {
   "cell_type": "code",
   "execution_count": null,
   "metadata": {},
   "outputs": [],
   "source": []
  },
  {
   "cell_type": "code",
   "execution_count": null,
   "metadata": {},
   "outputs": [],
   "source": [
    "#checks = session.query(exists().where(Like.post_id == i.id)).scalar()"
   ]
  }
 ],
 "metadata": {
  "kernelspec": {
   "display_name": "Python 3",
   "language": "python",
   "name": "python3"
  },
  "language_info": {
   "codemirror_mode": {
    "name": "ipython",
    "version": 3
   },
   "file_extension": ".py",
   "mimetype": "text/x-python",
   "name": "python",
   "nbconvert_exporter": "python",
   "pygments_lexer": "ipython3",
   "version": "3.7.6"
  }
 },
 "nbformat": 4,
 "nbformat_minor": 4
}
