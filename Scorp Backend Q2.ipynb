{
 "cells": [
  {
   "cell_type": "code",
   "execution_count": 1,
   "metadata": {},
   "outputs": [],
   "source": [
    "class Struct_Post(object):\n",
    "    \n",
    "    def __init__(self,id,description, image, created_at):\n",
    "        self.id = id\n",
    "        self.description = description\n",
    "        self.image = image\n",
    "        self.created_at = created_at\n",
    "    \n",
    "    \n",
    "    def __repr__(self):\n",
    "        return(f\"id:{self.id}, description:{self.description}, image:{self.image}, created_at:{self.created_at}\")"
   ]
  },
  {
   "cell_type": "markdown",
   "metadata": {},
   "source": [
    "### Create Dummy Data"
   ]
  },
  {
   "cell_type": "code",
   "execution_count": 2,
   "metadata": {},
   "outputs": [],
   "source": [
    "l1 = [[1,'yes','path/1',1],[2,'no','path/2',3],[3,'maybe','path/3',6],[4,'okay','path/4',9],[5,'confirmed','path/5',11]]\n",
    "l2 = [[6,'orange','path/6',17],[7,'indigo','path/7',20],[8,'gray','path/8',23],[9,'violet','path/9',29],[10,'lemon','path/10',31]]"
   ]
  },
  {
   "cell_type": "code",
   "execution_count": 3,
   "metadata": {},
   "outputs": [],
   "source": [
    "l3 = [[12,'cat','path/12',22],[14,'parrot','path/14',32],[17,'hamster','path/17',35],[19,'snake','path/19',38],[21,'leopard','path/21',40]]\n",
    "l4 = [[20,'basketball','path/20',31],[22,'football','path/22',33],[26,'volleyball','path/26',39],[28,'golf','path/28',42],[30,'ruby','path/30',44]]"
   ]
  },
  {
   "cell_type": "code",
   "execution_count": 4,
   "metadata": {},
   "outputs": [],
   "source": [
    "l5 = [[6,'long','path/6',46],[31,'short','path/31',47],[33,'slim','path/33',49],[36,'tall','path/36',51],[38,'chubby','path/38',52]]\n",
    "l6 = [[42,'air','path/42',54],[44,'earth','path/44',56],[45,'fire','path/45',58],[46,'water','path/46',59],[48,'avatar','path/48',61]]"
   ]
  },
  {
   "cell_type": "code",
   "execution_count": 5,
   "metadata": {},
   "outputs": [],
   "source": [
    "s1 = []\n",
    "s2 = []\n",
    "s3 = []\n",
    "s4 = []\n",
    "s5 = []\n",
    "s6 = []"
   ]
  },
  {
   "cell_type": "markdown",
   "metadata": {},
   "source": [
    "###### when populating the s(n=6) list above, manually change the list you are looping through and the list you are appending to respectively."
   ]
  },
  {
   "cell_type": "code",
   "execution_count": 11,
   "metadata": {},
   "outputs": [],
   "source": [
    "for i in l6:\n",
    "    inst = Struct_Post(id= i[0],description = i[1], image = i[2], created_at = i[3])\n",
    "    s6.append(inst)"
   ]
  },
  {
   "cell_type": "code",
   "execution_count": 12,
   "metadata": {},
   "outputs": [],
   "source": [
    "list_of_posts = [s1,s2,s3,s4,s5,s6]"
   ]
  },
  {
   "cell_type": "code",
   "execution_count": 13,
   "metadata": {
    "scrolled": true
   },
   "outputs": [
    {
     "data": {
      "text/plain": [
       "[[id:1, description:yes, image:path/1, created_at:1,\n",
       "  id:2, description:no, image:path/2, created_at:3,\n",
       "  id:3, description:maybe, image:path/3, created_at:6,\n",
       "  id:4, description:okay, image:path/4, created_at:9,\n",
       "  id:5, description:confirmed, image:path/5, created_at:11],\n",
       " [id:6, description:orange, image:path/6, created_at:17,\n",
       "  id:7, description:indigo, image:path/7, created_at:20,\n",
       "  id:8, description:gray, image:path/8, created_at:23,\n",
       "  id:9, description:violet, image:path/9, created_at:29,\n",
       "  id:10, description:lemon, image:path/10, created_at:31],\n",
       " [id:12, description:cat, image:path/12, created_at:22,\n",
       "  id:14, description:parrot, image:path/14, created_at:32,\n",
       "  id:17, description:hamster, image:path/17, created_at:35,\n",
       "  id:19, description:snake, image:path/19, created_at:38,\n",
       "  id:21, description:leopard, image:path/21, created_at:40],\n",
       " [id:20, description:basketball, image:path/20, created_at:31,\n",
       "  id:22, description:football, image:path/22, created_at:33,\n",
       "  id:26, description:volleyball, image:path/26, created_at:39,\n",
       "  id:28, description:golf, image:path/28, created_at:42,\n",
       "  id:30, description:ruby, image:path/30, created_at:44],\n",
       " [id:6, description:long, image:path/6, created_at:46,\n",
       "  id:31, description:short, image:path/31, created_at:47,\n",
       "  id:33, description:slim, image:path/33, created_at:49,\n",
       "  id:36, description:tall, image:path/36, created_at:51,\n",
       "  id:38, description:chubby, image:path/38, created_at:52],\n",
       " [id:42, description:air, image:path/42, created_at:54,\n",
       "  id:44, description:earth, image:path/44, created_at:56,\n",
       "  id:45, description:fire, image:path/45, created_at:58,\n",
       "  id:46, description:water, image:path/46, created_at:59,\n",
       "  id:48, description:avatar, image:path/48, created_at:61]]"
      ]
     },
     "execution_count": 13,
     "metadata": {},
     "output_type": "execute_result"
    }
   ],
   "source": [
    "list_of_posts"
   ]
  },
  {
   "cell_type": "markdown",
   "metadata": {},
   "source": [
    "### Merge The List of Post Lists"
   ]
  },
  {
   "cell_type": "code",
   "execution_count": 14,
   "metadata": {},
   "outputs": [],
   "source": [
    "def quick_sort(lis):\n",
    "    upper_lis = []\n",
    "    lower_lis = []\n",
    "    if len(lis) <= 1:\n",
    "        return lis\n",
    "    else:\n",
    "        pivot  =  lis.pop()\n",
    "    for  i in lis:\n",
    "        if i < pivot:\n",
    "            upper_lis.append(i)\n",
    "        elif i > pivot:\n",
    "            lower_lis.append(i)\n",
    "    return quick_sort(lower_lis) +[pivot] + quick_sort(upper_lis)"
   ]
  },
  {
   "cell_type": "code",
   "execution_count": 15,
   "metadata": {},
   "outputs": [],
   "source": [
    "def merge_posts(list_of_posts):\n",
    "    dic = {}\n",
    "    keep = set()\n",
    "    \n",
    "    #map the created_at value to their posts\n",
    "    for posts in list_of_posts:\n",
    "        for post in posts:\n",
    "            # if the created_at value is already in the dictionary (i.e duplicate created_at value)\n",
    "            if post.created_at in dic:\n",
    "                # switch to id value\n",
    "                b = post.id\n",
    "                c = dic[post.created_at].id\n",
    "                # compare the id values\n",
    "                if b < c:\n",
    "                    dic[post.created_at] = post\n",
    "                else:\n",
    "                    pass\n",
    "            else:\n",
    "                dic[post.created_at] = post\n",
    "                \n",
    "    #convert dictionary keys to lists\n",
    "    hold = list(dic.keys())\n",
    "    \n",
    "    #sort the list in ascending order\n",
    "    sorted_ = quick_sort(hold)\n",
    "    \n",
    "    # populate the the output list with the posts\n",
    "    output = [dic[i] for i in sorted_]\n",
    "\n",
    "    # remove duplicate ids\n",
    "    for i in output:\n",
    "        if i.id in keep:\n",
    "            output.remove(i)\n",
    "        else:\n",
    "            keep.add(i.id)\n",
    "        \n",
    "    return output"
   ]
  },
  {
   "cell_type": "code",
   "execution_count": 16,
   "metadata": {},
   "outputs": [],
   "source": [
    "see = merge_posts(list_of_posts)"
   ]
  },
  {
   "cell_type": "code",
   "execution_count": 17,
   "metadata": {},
   "outputs": [
    {
     "data": {
      "text/plain": [
       "[id:48, description:avatar, image:path/48, created_at:61,\n",
       " id:46, description:water, image:path/46, created_at:59,\n",
       " id:45, description:fire, image:path/45, created_at:58,\n",
       " id:44, description:earth, image:path/44, created_at:56,\n",
       " id:42, description:air, image:path/42, created_at:54,\n",
       " id:38, description:chubby, image:path/38, created_at:52,\n",
       " id:36, description:tall, image:path/36, created_at:51,\n",
       " id:33, description:slim, image:path/33, created_at:49,\n",
       " id:31, description:short, image:path/31, created_at:47,\n",
       " id:6, description:long, image:path/6, created_at:46,\n",
       " id:30, description:ruby, image:path/30, created_at:44,\n",
       " id:28, description:golf, image:path/28, created_at:42,\n",
       " id:21, description:leopard, image:path/21, created_at:40,\n",
       " id:26, description:volleyball, image:path/26, created_at:39,\n",
       " id:19, description:snake, image:path/19, created_at:38,\n",
       " id:17, description:hamster, image:path/17, created_at:35,\n",
       " id:22, description:football, image:path/22, created_at:33,\n",
       " id:14, description:parrot, image:path/14, created_at:32,\n",
       " id:10, description:lemon, image:path/10, created_at:31,\n",
       " id:9, description:violet, image:path/9, created_at:29,\n",
       " id:8, description:gray, image:path/8, created_at:23,\n",
       " id:12, description:cat, image:path/12, created_at:22,\n",
       " id:7, description:indigo, image:path/7, created_at:20,\n",
       " id:5, description:confirmed, image:path/5, created_at:11,\n",
       " id:4, description:okay, image:path/4, created_at:9,\n",
       " id:3, description:maybe, image:path/3, created_at:6,\n",
       " id:2, description:no, image:path/2, created_at:3,\n",
       " id:1, description:yes, image:path/1, created_at:1]"
      ]
     },
     "execution_count": 17,
     "metadata": {},
     "output_type": "execute_result"
    }
   ],
   "source": [
    "see"
   ]
  },
  {
   "cell_type": "code",
   "execution_count": null,
   "metadata": {},
   "outputs": [],
   "source": []
  },
  {
   "cell_type": "code",
   "execution_count": null,
   "metadata": {},
   "outputs": [],
   "source": []
  },
  {
   "cell_type": "code",
   "execution_count": null,
   "metadata": {},
   "outputs": [],
   "source": []
  }
 ],
 "metadata": {
  "kernelspec": {
   "display_name": "Python 3",
   "language": "python",
   "name": "python3"
  },
  "language_info": {
   "codemirror_mode": {
    "name": "ipython",
    "version": 3
   },
   "file_extension": ".py",
   "mimetype": "text/x-python",
   "name": "python",
   "nbconvert_exporter": "python",
   "pygments_lexer": "ipython3",
   "version": "3.7.6"
  }
 },
 "nbformat": 4,
 "nbformat_minor": 4
}
